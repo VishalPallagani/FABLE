{
 "cells": [
  {
   "cell_type": "code",
   "execution_count": 1,
   "metadata": {},
   "outputs": [],
   "source": [
    "import pandas as pd\n",
    "\n",
    "df = pd.read_csv(\"./output_data/summary/summary_large.csv\")"
   ]
  },
  {
   "cell_type": "code",
   "execution_count": 2,
   "metadata": {},
   "outputs": [],
   "source": [
    "length_cols = ['plan_length_1', 'plan_length_2', 'plan_length_3']\n",
    "plan_cols   = ['plan_1', 'plan_2', 'plan_3']\n",
    "\n",
    "# Filter rows where any plan_length is less than 6\n",
    "df_short = df[df[length_cols].lt(6).any(axis=1)]\n",
    "\n",
    "# Flatten\n",
    "records = []\n",
    "\n",
    "for _, row in df_short.iterrows():\n",
    "    for i in range(1, 4):\n",
    "        if row[f'plan_length_{i}'] < 6:\n",
    "            records.append({\n",
    "                'plan': row[f'plan_{i}'],\n",
    "                'start_name': row['start_name'],\n",
    "                'destination_name': row['destination_name'],\n",
    "                'start_coordinates': row['start_coordinates'],\n",
    "                'destination_coordinates': row['destination_coordinates']\n",
    "            })\n",
    "\n",
    "flattened_df = pd.DataFrame(records)\n",
    "\n",
    "# flattened_df.to_csv(\"short_plans.csv\", index=False)\n"
   ]
  },
  {
   "cell_type": "markdown",
   "metadata": {},
   "source": [
    "### Check for duplicate detailed plans"
   ]
  },
  {
   "cell_type": "code",
   "execution_count": 3,
   "metadata": {},
   "outputs": [
    {
     "name": "stdout",
     "output_type": "stream",
     "text": [
      "0\n"
     ]
    }
   ],
   "source": [
    "import ast\n",
    "\n",
    "\n",
    "detailed_df = pd.read_csv(\"./output_data/detailed_travel_routes.csv\")\n",
    "\n",
    "detailed_df['Domain'] = detailed_df['Domain'].apply(lambda x: ast.literal_eval(x.replace('coordinates = ', '').strip()))\n",
    "\n",
    "detailed_df['Plan'] = detailed_df['Plan'].apply(ast.literal_eval)\n",
    "\n",
    "detailed_df['Detailed Plan'] = detailed_df['Detailed Plan'].apply(ast.literal_eval)\n",
    "\n",
    "def encode_plans(detailed_plan):\n",
    "    for idx in range(len(detailed_plan)):\n",
    "        detailed_plan[idx] = str(detailed_plan[idx])\n",
    "    return detailed_plan\n",
    "\n",
    "detailed_df['Detailed Plan'] = detailed_df['Detailed Plan'].apply(encode_plans)\n",
    "\n",
    "has_duplicates = detailed_df['Detailed Plan'].apply(lambda x: len(x) != len(set(x)))\n",
    "\n",
    "# Rows with duplicate entries in Detailed_Plan\n",
    "duplicates_df = detailed_df[has_duplicates]\n",
    "\n",
    "print(len(duplicates_df))"
   ]
  },
  {
   "cell_type": "markdown",
   "metadata": {},
   "source": [
    "### Check for duplicate plans"
   ]
  },
  {
   "cell_type": "code",
   "execution_count": 4,
   "metadata": {},
   "outputs": [
    {
     "name": "stdout",
     "output_type": "stream",
     "text": [
      "0\n"
     ]
    }
   ],
   "source": [
    "detailed_df['Plan'] = detailed_df['Plan'].apply(encode_plans)\n",
    "\n",
    "has_duplicates_1 = detailed_df['Plan'].apply(lambda x: len(x) != len(set(x)))\n",
    "\n",
    "# Rows with duplicate entries in Detailed_Plan\n",
    "duplicates_df_1 = detailed_df[has_duplicates_1]\n",
    "\n",
    "print(len(duplicates_df_1))"
   ]
  },
  {
   "cell_type": "markdown",
   "metadata": {},
   "source": [
    "### Final Check\n",
    "\n",
    "Check for instances where the plan is the same, but detailed plan is different.\n",
    "(For debugging)"
   ]
  },
  {
   "cell_type": "code",
   "execution_count": 5,
   "metadata": {},
   "outputs": [
    {
     "data": {
      "text/html": [
       "<div>\n",
       "<style scoped>\n",
       "    .dataframe tbody tr th:only-of-type {\n",
       "        vertical-align: middle;\n",
       "    }\n",
       "\n",
       "    .dataframe tbody tr th {\n",
       "        vertical-align: top;\n",
       "    }\n",
       "\n",
       "    .dataframe thead th {\n",
       "        text-align: right;\n",
       "    }\n",
       "</style>\n",
       "<table border=\"1\" class=\"dataframe\">\n",
       "  <thead>\n",
       "    <tr style=\"text-align: right;\">\n",
       "      <th></th>\n",
       "      <th>id</th>\n",
       "      <th>Domain</th>\n",
       "      <th>Goal</th>\n",
       "      <th>Plan</th>\n",
       "      <th>Detailed Plan</th>\n",
       "    </tr>\n",
       "  </thead>\n",
       "  <tbody>\n",
       "  </tbody>\n",
       "</table>\n",
       "</div>"
      ],
      "text/plain": [
       "Empty DataFrame\n",
       "Columns: [id, Domain, Goal, Plan, Detailed Plan]\n",
       "Index: []"
      ]
     },
     "execution_count": 5,
     "metadata": {},
     "output_type": "execute_result"
    }
   ],
   "source": [
    "only_in_df1 = duplicates_df[~duplicates_df['id'].isin(duplicates_df_1['id'])]\n",
    "\n",
    "# IDs in df2 but not in df1\n",
    "only_in_df2 = duplicates_df_1[~duplicates_df_1['id'].isin(duplicates_df['id'])]\n",
    "\n",
    "only_in_df2"
   ]
  }
 ],
 "metadata": {
  "kernelspec": {
   "display_name": "Python 3",
   "language": "python",
   "name": "python3"
  },
  "language_info": {
   "codemirror_mode": {
    "name": "ipython",
    "version": 3
   },
   "file_extension": ".py",
   "mimetype": "text/x-python",
   "name": "python",
   "nbconvert_exporter": "python",
   "pygments_lexer": "ipython3",
   "version": "3.10.12"
  }
 },
 "nbformat": 4,
 "nbformat_minor": 2
}
